{
  "nbformat": 4,
  "nbformat_minor": 0,
  "metadata": {
    "colab": {
      "provenance": [],
      "toc_visible": true
    },
    "kernelspec": {
      "name": "python3",
      "display_name": "Python 3"
    },
    "language_info": {
      "name": "python"
    }
  },
  "cells": [
    {
      "cell_type": "code",
      "execution_count": 1,
      "metadata": {
        "id": "uo2XquWEWS59"
      },
      "outputs": [],
      "source": [
        "import torch"
      ]
    },
    {
      "cell_type": "markdown",
      "source": [
        "#**Integer**"
      ],
      "metadata": {
        "id": "693FQxcxXmHk"
      }
    },
    {
      "cell_type": "code",
      "source": [
        "torch.iinfo(torch.uint8)"
      ],
      "metadata": {
        "colab": {
          "base_uri": "https://localhost:8080/"
        },
        "id": "_vh0bGe8W8ty",
        "outputId": "0d9e887f-2485-443a-89e3-68ff1c61785f"
      },
      "execution_count": 2,
      "outputs": [
        {
          "output_type": "execute_result",
          "data": {
            "text/plain": [
              "iinfo(min=0, max=255, dtype=uint8)"
            ]
          },
          "metadata": {},
          "execution_count": 2
        }
      ]
    },
    {
      "cell_type": "code",
      "source": [
        "torch.iinfo(torch.int8)"
      ],
      "metadata": {
        "colab": {
          "base_uri": "https://localhost:8080/"
        },
        "id": "IPdsvQhlXJ2E",
        "outputId": "19f65ec4-4c7a-4138-d0cd-0edc9ddf5652"
      },
      "execution_count": 3,
      "outputs": [
        {
          "output_type": "execute_result",
          "data": {
            "text/plain": [
              "iinfo(min=-128, max=127, dtype=int8)"
            ]
          },
          "metadata": {},
          "execution_count": 3
        }
      ]
    },
    {
      "cell_type": "code",
      "source": [
        "torch.iinfo(torch.int16)"
      ],
      "metadata": {
        "colab": {
          "base_uri": "https://localhost:8080/"
        },
        "id": "PDq0qclmXNnv",
        "outputId": "8c3e04a0-aaef-4fcf-8c98-3f13ffce517f"
      },
      "execution_count": 4,
      "outputs": [
        {
          "output_type": "execute_result",
          "data": {
            "text/plain": [
              "iinfo(min=-32768, max=32767, dtype=int16)"
            ]
          },
          "metadata": {},
          "execution_count": 4
        }
      ]
    },
    {
      "cell_type": "code",
      "source": [
        "torch.iinfo(torch.int32)"
      ],
      "metadata": {
        "colab": {
          "base_uri": "https://localhost:8080/"
        },
        "id": "B2_uisVoXcSg",
        "outputId": "add075cb-cfef-4709-82f8-ca0ae4a40e9c"
      },
      "execution_count": 5,
      "outputs": [
        {
          "output_type": "execute_result",
          "data": {
            "text/plain": [
              "iinfo(min=-2.14748e+09, max=2.14748e+09, dtype=int32)"
            ]
          },
          "metadata": {},
          "execution_count": 5
        }
      ]
    },
    {
      "cell_type": "code",
      "source": [
        "torch.iinfo(torch.int64)"
      ],
      "metadata": {
        "colab": {
          "base_uri": "https://localhost:8080/"
        },
        "id": "Tvp57EI5Xd0a",
        "outputId": "f8dc61b0-6e4d-42a4-da23-b178ffbb5948"
      },
      "execution_count": 6,
      "outputs": [
        {
          "output_type": "execute_result",
          "data": {
            "text/plain": [
              "iinfo(min=-9.22337e+18, max=9.22337e+18, dtype=int64)"
            ]
          },
          "metadata": {},
          "execution_count": 6
        }
      ]
    },
    {
      "cell_type": "markdown",
      "source": [
        "# **Floating-Point**"
      ],
      "metadata": {
        "id": "hjIIgax4Xrl6"
      }
    },
    {
      "cell_type": "code",
      "source": [
        "value = 1/3"
      ],
      "metadata": {
        "id": "wgYMChGqXfUZ"
      },
      "execution_count": 7,
      "outputs": []
    },
    {
      "cell_type": "code",
      "source": [
        "type(value)"
      ],
      "metadata": {
        "colab": {
          "base_uri": "https://localhost:8080/"
        },
        "id": "XwRl_WfAUrqp",
        "outputId": "bbbd9f98-a3c1-4d13-815d-7615913fc378"
      },
      "execution_count": 8,
      "outputs": [
        {
          "output_type": "execute_result",
          "data": {
            "text/plain": [
              "float"
            ]
          },
          "metadata": {},
          "execution_count": 8
        }
      ]
    },
    {
      "cell_type": "code",
      "source": [
        "format(value, \".60f\")"
      ],
      "metadata": {
        "colab": {
          "base_uri": "https://localhost:8080/",
          "height": 35
        },
        "id": "c3-IW6hPc4oP",
        "outputId": "a768ea99-7436-4819-d7de-251d3e146735"
      },
      "execution_count": 9,
      "outputs": [
        {
          "output_type": "execute_result",
          "data": {
            "text/plain": [
              "'0.333333333333333314829616256247390992939472198486328125000000'"
            ],
            "application/vnd.google.colaboratory.intrinsic+json": {
              "type": "string"
            }
          },
          "metadata": {},
          "execution_count": 9
        }
      ]
    },
    {
      "cell_type": "code",
      "source": [
        "tensor_fp64 = torch.tensor(value, dtype = torch.float64)\n",
        "print(f\"FP64 tensor: {format(tensor_fp64.item(), '.60f')}\")"
      ],
      "metadata": {
        "colab": {
          "base_uri": "https://localhost:8080/"
        },
        "id": "SoTggJ1qdG8W",
        "outputId": "e136edeb-208c-483a-81c9-ec79c7781700"
      },
      "execution_count": 10,
      "outputs": [
        {
          "output_type": "stream",
          "name": "stdout",
          "text": [
            "FP64 tensor: 0.333333333333333314829616256247390992939472198486328125000000\n"
          ]
        }
      ]
    },
    {
      "cell_type": "code",
      "source": [
        "tensor_fp32 = torch.tensor(value, dtype = torch.float32)\n",
        "tensor_fp16 = torch.tensor(value, dtype = torch.float16)\n",
        "tensor_bf16 = torch.tensor(value, dtype = torch.bfloat16)"
      ],
      "metadata": {
        "id": "Y_h5RODQdZLn"
      },
      "execution_count": 11,
      "outputs": []
    },
    {
      "cell_type": "code",
      "source": [
        "print(f\"FP64 Tensor: {format(tensor_fp64.item(), '0.60f')}\")\n",
        "print(f\"FP32 Tensor: {format(tensor_fp32.item(), '0.60f')}\")\n",
        "print(f\"FP16 Tensor: {format(tensor_fp16.item(), '0.60f')}\")\n",
        "print(f\"BF16 Tensor: {format(tensor_bf16.item(), '0.60f')}\")"
      ],
      "metadata": {
        "colab": {
          "base_uri": "https://localhost:8080/"
        },
        "id": "o2ZuMPhiW3wN",
        "outputId": "479a8dde-2607-4b0a-9496-f27ebb8f02d1"
      },
      "execution_count": 12,
      "outputs": [
        {
          "output_type": "stream",
          "name": "stdout",
          "text": [
            "FP64 Tensor: 0.333333333333333314829616256247390992939472198486328125000000\n",
            "FP32 Tensor: 0.333333343267440795898437500000000000000000000000000000000000\n",
            "FP16 Tensor: 0.333251953125000000000000000000000000000000000000000000000000\n",
            "BF16 Tensor: 0.333984375000000000000000000000000000000000000000000000000000\n"
          ]
        }
      ]
    },
    {
      "cell_type": "markdown",
      "source": [
        "We can clearly observe worse precision in \"BF16\" and best precision in \"FP16\"."
      ],
      "metadata": {
        "id": "gUkOIVh1Xr79"
      }
    },
    {
      "cell_type": "code",
      "source": [
        "torch.finfo(torch.bfloat16)"
      ],
      "metadata": {
        "colab": {
          "base_uri": "https://localhost:8080/"
        },
        "id": "BhEEdeCMXp91",
        "outputId": "4d3dbe12-2706-4554-86b2-51281f41ac95"
      },
      "execution_count": 13,
      "outputs": [
        {
          "output_type": "execute_result",
          "data": {
            "text/plain": [
              "finfo(resolution=0.01, min=-3.38953e+38, max=3.38953e+38, eps=0.0078125, smallest_normal=1.17549e-38, tiny=1.17549e-38, dtype=bfloat16)"
            ]
          },
          "metadata": {},
          "execution_count": 13
        }
      ]
    },
    {
      "cell_type": "code",
      "source": [
        "torch.finfo(torch.float32)"
      ],
      "metadata": {
        "colab": {
          "base_uri": "https://localhost:8080/"
        },
        "id": "h4EaYQCa9bYT",
        "outputId": "853e2066-2728-4c8a-e372-0d99a2910bb3"
      },
      "execution_count": 14,
      "outputs": [
        {
          "output_type": "execute_result",
          "data": {
            "text/plain": [
              "finfo(resolution=1e-06, min=-3.40282e+38, max=3.40282e+38, eps=1.19209e-07, smallest_normal=1.17549e-38, tiny=1.17549e-38, dtype=float32)"
            ]
          },
          "metadata": {},
          "execution_count": 14
        }
      ]
    },
    {
      "cell_type": "code",
      "source": [
        "torch.finfo(torch.float16)"
      ],
      "metadata": {
        "colab": {
          "base_uri": "https://localhost:8080/"
        },
        "id": "3wftqbIp9noX",
        "outputId": "fc719199-9910-408e-b514-3a0012ca0ca0"
      },
      "execution_count": 15,
      "outputs": [
        {
          "output_type": "execute_result",
          "data": {
            "text/plain": [
              "finfo(resolution=0.001, min=-65504, max=65504, eps=0.000976562, smallest_normal=6.10352e-05, tiny=6.10352e-05, dtype=float16)"
            ]
          },
          "metadata": {},
          "execution_count": 15
        }
      ]
    },
    {
      "cell_type": "code",
      "source": [
        "torch.finfo(torch.float64)"
      ],
      "metadata": {
        "colab": {
          "base_uri": "https://localhost:8080/"
        },
        "id": "MCRm6BIp9u5U",
        "outputId": "56fd9630-cc5a-47ad-96d2-cdcf11f31761"
      },
      "execution_count": 16,
      "outputs": [
        {
          "output_type": "execute_result",
          "data": {
            "text/plain": [
              "finfo(resolution=1e-15, min=-1.79769e+308, max=1.79769e+308, eps=2.22045e-16, smallest_normal=2.22507e-308, tiny=2.22507e-308, dtype=float64)"
            ]
          },
          "metadata": {},
          "execution_count": 16
        }
      ]
    },
    {
      "cell_type": "code",
      "source": [
        "tensor_fp32 = torch.rand(1000, dtype=torch.float32)"
      ],
      "metadata": {
        "id": "6gHdStff98ZD"
      },
      "execution_count": 17,
      "outputs": []
    },
    {
      "cell_type": "markdown",
      "source": [
        "# **Downcasting**"
      ],
      "metadata": {
        "id": "47HmBsT6_2PA"
      }
    },
    {
      "cell_type": "code",
      "source": [
        "tensor_fp32[:5]"
      ],
      "metadata": {
        "colab": {
          "base_uri": "https://localhost:8080/"
        },
        "id": "DftMET6Y_n_M",
        "outputId": "160dfadf-52a7-426e-c202-6d64a4f4e2d0"
      },
      "execution_count": 18,
      "outputs": [
        {
          "output_type": "execute_result",
          "data": {
            "text/plain": [
              "tensor([0.4036, 0.8945, 0.7500, 0.2221, 0.3073])"
            ]
          },
          "metadata": {},
          "execution_count": 18
        }
      ]
    },
    {
      "cell_type": "code",
      "source": [
        "tensor_fp32_to_bf16 = tensor_fp32.to(dtype=torch.bfloat16)"
      ],
      "metadata": {
        "id": "dYt3n03p_ryd"
      },
      "execution_count": 19,
      "outputs": []
    },
    {
      "cell_type": "code",
      "source": [
        "tensor_fp32_to_bf16[:5]"
      ],
      "metadata": {
        "colab": {
          "base_uri": "https://localhost:8080/"
        },
        "id": "6Kzq8OCpAVMH",
        "outputId": "bc915405-6226-409b-87d7-442954583cef"
      },
      "execution_count": 20,
      "outputs": [
        {
          "output_type": "execute_result",
          "data": {
            "text/plain": [
              "tensor([0.4043, 0.8945, 0.7500, 0.2217, 0.3066], dtype=torch.bfloat16)"
            ]
          },
          "metadata": {},
          "execution_count": 20
        }
      ]
    },
    {
      "cell_type": "code",
      "source": [
        "m_float32 = torch.dot(tensor_fp32, tensor_fp32)"
      ],
      "metadata": {
        "id": "GEIE_eCAAYPl"
      },
      "execution_count": 21,
      "outputs": []
    },
    {
      "cell_type": "code",
      "source": [
        "m_float32"
      ],
      "metadata": {
        "colab": {
          "base_uri": "https://localhost:8080/"
        },
        "id": "qXsVcTWHBZrV",
        "outputId": "4c5de97c-5191-463f-d3d1-9f09a0505850"
      },
      "execution_count": 23,
      "outputs": [
        {
          "output_type": "execute_result",
          "data": {
            "text/plain": [
              "tensor(345.2639)"
            ]
          },
          "metadata": {},
          "execution_count": 23
        }
      ]
    },
    {
      "cell_type": "code",
      "source": [
        "m_bfloat16 = torch.dot(tensor_fp32_to_bf16, tensor_fp32_to_bf16)\n",
        "m_bfloat16"
      ],
      "metadata": {
        "colab": {
          "base_uri": "https://localhost:8080/"
        },
        "id": "H1hHWx2iBbl_",
        "outputId": "cbb70d9d-effb-4de8-852c-77943afe8798"
      },
      "execution_count": 24,
      "outputs": [
        {
          "output_type": "execute_result",
          "data": {
            "text/plain": [
              "tensor(346., dtype=torch.bfloat16)"
            ]
          },
          "metadata": {},
          "execution_count": 24
        }
      ]
    },
    {
      "cell_type": "code",
      "source": [],
      "metadata": {
        "id": "ic3ECFJnBoYd"
      },
      "execution_count": null,
      "outputs": []
    }
  ]
}